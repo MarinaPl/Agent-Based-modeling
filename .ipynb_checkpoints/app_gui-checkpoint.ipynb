{
 "cells": [
  {
   "cell_type": "code",
   "execution_count": null,
   "metadata": {
    "collapsed": false
   },
   "outputs": [],
   "source": [
    "import sys\n",
    "from PyQt4 import Qt  #QTGui, QtCore\n",
    "app = Qt.QApplication(sys.argv)\n",
    "widget = Qt.QWidget() \n",
    "widget.resize(600, 300)\n",
    "widget.setWindowTitle('Выбор модели')\n",
    "\n",
    "#button_exit\n",
    "exit_but = Qt.QPushButton('Выход', widget)\n",
    "exit_but.setGeometry(520, 250, 60, 35)\n",
    "widget.connect(exit_but, Qt.SIGNAL(\"clicked()\"), sys.exit)\n",
    "\n",
    "\n",
    "lbl1 = Qt.QLabel('Побуждение', widget)\n",
    "lbl1.move(15, 30)\n",
    "lbl2 = Qt.QLabel('Принуждение', widget)\n",
    "lbl2.move(15, 130)\n",
    "#сверстать красиво: веерная/ромбовидная, побуждение/принуждение\n",
    "#button_code\n",
    "\n",
    "Sht_but = Qt.QPushButton(widget)\n",
    "Sht_but.setIcon(Qt.QIcon('icon_sh_1.jpg'))\n",
    "Sht_but.setIconSize(Qt.QSize(100, 100))\n",
    "Sht_but.setGeometry(70, 40, 100, 35)\n",
    "\n",
    "#Sht_invert_but = Qt.QPushButton('Равновесие Штакельберга с обратной связью по управлению', widget)\n",
    "Sht_invert_but = Qt.QPushButton(widget)\n",
    "Sht_invert_but.setIcon(Qt.QIcon('icon_sh_2.jpg'))\n",
    "Sht_invert_but.setIconSize(Qt.QSize(100, 100))\n",
    "Sht_invert_but.setGeometry(200, 40, 100, 35)\n",
    "\n",
    "Sht_but_pr = Qt.QPushButton(widget)\n",
    "Sht_but_pr.setIcon(Qt.QIcon('icon_sh_1.jpg'))\n",
    "Sht_but_pr.setIconSize(Qt.QSize(100, 100))\n",
    "Sht_but_pr.setGeometry(70, 140, 100, 35)\n",
    "\n",
    "#Sht_invert_but = Qt.QPushButton('Равновесие Штакельберга с обратной связью по управлению', widget)\n",
    "Sht_invert_but_pr = Qt.QPushButton(widget)\n",
    "Sht_invert_but_pr.setIcon(Qt.QIcon('icon_sh_2.jpg'))\n",
    "Sht_invert_but_pr.setIconSize(Qt.QSize(100, 100))\n",
    "Sht_invert_but_pr.setGeometry(200, 140, 100, 35)\n",
    "\n",
    "\n",
    "#but.setIcon(QIcon('image.jpg'))\n",
    "#but.setIconSize(QSize(75, 75))\n",
    "\n",
    "#exec(open('test_file.py').read(), globals()) #файл в той же папке\n",
    "\n",
    "def tes_1():\n",
    "    print(\"spoiler\")\n",
    "    \n",
    "def tes():\n",
    "    print(\"spoiler_wonder\")\n",
    "    \n",
    "Sht_but.clicked.connect(tes)\n",
    "Sht_invert_but.clicked.connect(tes_1)\n",
    "    \n",
    "#file_but.clicked.connect(tes)\n",
    "#file_but.clicked.connect(Shtackelberg)\n",
    "\n",
    "#widget.connect(file_but, Qt.SIGNAL(\"clicked()\"),  Qt.SIGNAL(\"tes()\"))     \n",
    "\n",
    "#exec(open('test_file.py').read(), globals())\n",
    "\n",
    "widget.show()\n",
    "sys.exit(app.exec_())\n",
    "\n",
    "\n",
    "\n",
    "\n",
    "\n",
    "\n",
    "\n"
   ]
  },
  {
   "cell_type": "code",
   "execution_count": null,
   "metadata": {
    "collapsed": true
   },
   "outputs": [],
   "source": []
  },
  {
   "cell_type": "code",
   "execution_count": null,
   "metadata": {
    "collapsed": true
   },
   "outputs": [],
   "source": []
  }
 ],
 "metadata": {
  "anaconda-cloud": {},
  "kernelspec": {
   "display_name": "Python [Root]",
   "language": "python",
   "name": "Python [Root]"
  },
  "language_info": {
   "codemirror_mode": {
    "name": "ipython",
    "version": 3
   },
   "file_extension": ".py",
   "mimetype": "text/x-python",
   "name": "python",
   "nbconvert_exporter": "python",
   "pygments_lexer": "ipython3",
   "version": "3.5.2"
  }
 },
 "nbformat": 4,
 "nbformat_minor": 0
}
