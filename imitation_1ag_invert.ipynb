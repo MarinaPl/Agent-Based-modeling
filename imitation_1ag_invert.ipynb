{
 "cells": [
  {
   "cell_type": "code",
   "execution_count": 3,
   "metadata": {
    "collapsed": false
   },
   "outputs": [
    {
     "name": "stdout",
     "output_type": "stream",
     "text": [
      "все минимумы [11706.6974457, 11690.2974457, 11673.8974457, 11657.4974457, 11641.0974457, 11624.6974457, 11608.2974457, 11591.8974457, 11575.4974457, 11559.0974457]\n",
      "гарантированный выигрыш агента: 11559.0974457\n",
      "[993.273, 922.7129999999999, 800.313, 626.0730000000002, 1033.0042, 959.6217999999999, 832.3258000000001, 651.1162000000003, 1072.7354, 996.5306, 864.3386, 676.1594000000002, 1112.4666, 1033.4393999999998, 896.3514000000001, 701.2026000000003, 1152.1978000000001, 1070.3482, 928.3642000000001, 726.2458000000001, 1191.929, 1107.2569999999998, 960.3770000000001, 751.2890000000001, 1231.6602, 1144.1657999999998, 992.3898000000002, 776.3322000000002, 1271.3914, 1181.0746, 1024.4026000000001, 801.3754000000002, 1311.1226000000001, 1217.9833999999998, 1056.4154, 826.4186000000001, 1350.8538, 1254.8921999999998, 1088.4282, 851.4618000000002]\n",
      "1350.8538\n",
      "коэффициент согласованности 0.26803\n"
     ]
    }
   ],
   "source": [
    "#Штакельберг с обратной связью по управлению - 1 агент\n",
    "import numpy as np\n",
    "import pandas as pd\n",
    "import matplotlib.pyplot as plt\n",
    "\n",
    "#объявление переменных\n",
    "N = 10\n",
    "T_min = 5000 #супервайзер u  (5000-7000)\n",
    "T_max = 7000\n",
    "tao_min = 0.1 #агент v\n",
    "tao_max = 1\n",
    "\n",
    "h_T = (T_max - T_min)/N\n",
    "h_tao = (tao_max - tao_min)/N\n",
    "z0 = 0.1\n",
    "z_abs = 0.6 #то с чем сравниваем - наш показатель \"эффективности\" - идеальный \n",
    "a = 0.8 #коэфф\n",
    "#m1 = 1 #коэфф\n",
    "outlay = 0.007\n",
    "lambd = - 100000\n",
    "lambd_1 = -100 \n",
    "salary = 10000\n",
    "k_c = 7\n",
    "bet = 0.5\n",
    "#определяем функции - тестовые \n",
    "def J_0(T, tao, z):\n",
    "    return (T * tao) * 0.8 * (1 - z) - outlay - lambd * (T ** lambd_1)\n",
    "def J_1(T, tao, z):\n",
    "    return 0.87 * salary * ((1 + z) ** 2) - tao * T * (1 - z) + k_c * (z**bet) * ((tao_max - tao)**(1 - bet))\n",
    "def z_tao(tao):\n",
    "     return round(z0 + a * tao, 5)\n",
    "\n",
    "def Shtackelberg_1_invert():    \n",
    "    \n",
    "    def L_T():       #гарантированный выигрыш агента - посчитали, это число //min - ag, max -sup\n",
    "        J1_min_list = [] #список по которому будем искать максимум по T - состоит из минимумов по tao\n",
    "        for i_T in range (N):\n",
    "            T = T_min + i_T * h_T\n",
    "\n",
    "            J1_list = []\n",
    "            for j_tao in range (N):\n",
    "                tao = tao_min + j_tao * h_tao\n",
    "                #находим минимум J1 по tao и запоминаем tao\n",
    "                J1_list.append(round(J_1(T, tao, z_tao(tao)), 7))\n",
    "            J1_min = min(J1_list)\n",
    "            tao_J1 = J1_list.index(J1_min) * h_tao + tao_min\n",
    "    #         print (\"min\", J1_min)\n",
    "    #         print(\"tao, при котором достигается min\", tao_J1)\n",
    "            J1_min_list.append(J1_min)           \n",
    "            #находим максимум по T с учетом найденного tao\n",
    "        print(\"все минимумы\", J1_min_list)   \n",
    "        return min(J1_min_list)\n",
    "    L = L_T()        \n",
    "    #цикл\n",
    "    print(\"гарантированный выигрыш агента:\", L )\n",
    "\n",
    "    # нашли гарантированный выигрыш агента\n",
    "    J0_list = [] \n",
    "    for i_T in range(N):\n",
    "        T = T_min + i_T * h_T\n",
    "\n",
    "        for i_tao in range(N):\n",
    "            tao = tao_min + i_tao * h_tao\n",
    "            if (round(z_tao(tao), 7) > z_abs) and (L < round(J_1(T, tao, z_tao(tao)), 7)):\n",
    "                J0_list.append(J_0(T, tao, z_tao(tao)))\n",
    "    print (J0_list)           \n",
    "    J0_max = max(J0_list)\n",
    "\n",
    "    print(J0_max)\n",
    "    print('коэффициент согласованности', round(J0_max/J_0(T_max, tao_max, z0), 5))    \n",
    "\n",
    "\n",
    "Shtackelberg_1_invert()\n",
    "\n",
    "\n",
    "\n",
    "\n",
    "\n"
   ]
  },
  {
   "cell_type": "code",
   "execution_count": null,
   "metadata": {
    "collapsed": true
   },
   "outputs": [],
   "source": [
    "все минимумы [11559.0974457, 12674.0313749, 13967.1681348, 15438.5315581, 17088.1317885, 18915.9706521, 20922.042478, 23106.3314088, 25468.8014316, 28009.3556846]\n",
    "гарантированный выигрыш агента: 28009.3556846\n",
    "[626.0730000000002, 651.1162000000003, 676.1594000000002, 701.2026000000003, 726.2458000000001, 751.2890000000001, 776.3322000000002, 801.3754000000002, 826.4186000000001]\n",
    "826.4186000000001\n",
    "коэффициент согласованности 0.16397"
   ]
  }
 ],
 "metadata": {
  "anaconda-cloud": {},
  "kernelspec": {
   "display_name": "Python [Root]",
   "language": "python",
   "name": "Python [Root]"
  },
  "language_info": {
   "codemirror_mode": {
    "name": "ipython",
    "version": 3
   },
   "file_extension": ".py",
   "mimetype": "text/x-python",
   "name": "python",
   "nbconvert_exporter": "python",
   "pygments_lexer": "ipython3",
   "version": "3.5.2"
  }
 },
 "nbformat": 4,
 "nbformat_minor": 0
}
