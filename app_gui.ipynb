{
 "cells": [
  {
   "cell_type": "code",
   "execution_count": null,
   "metadata": {
    "collapsed": true
   },
   "outputs": [],
   "source": [
    "import sys\n",
    "from PyQt4 import Qt  #QTGui, QtCore\n",
    "app = Qt.QApplication(sys.argv)\n",
    "widget = Qt.QWidget() \n",
    "widget.resize(500, 300)\n",
    "widget.setWindowTitle('JUST DO IT')\n",
    "\n",
    "#button_exit\n",
    "exit_but = Qt.QPushButton('Close', widget)\n",
    "exit_but.setGeometry(100, 10, 60, 35)\n",
    "widget.connect(exit_but, Qt.SIGNAL(\"clicked()\"), sys.exit)\n",
    "\n",
    "\n",
    "#button_code\n",
    "\n",
    "file_but = Qt.QPushButton('RUN', widget)\n",
    "file_but.setGeometry(100, 100, 60, 35)\n",
    "\n",
    "exec(open('test_file.py').read(), globals()) #файл в той же папке\n",
    "def tes():\n",
    "    print(\"spoiler\")\n",
    "#file_but.clicked.connect(tes)\n",
    "file_but.clicked.connect(sum_t)\n",
    "\n",
    "#widget.connect(file_but, Qt.SIGNAL(\"clicked()\"),  Qt.SIGNAL(\"tes()\"))     \n",
    "\n",
    "#exec(open('test_file.py').read(), globals())\n",
    "\n",
    "widget.show()\n",
    "sys.exit(app.exec_())\n",
    "\n",
    "\n",
    "\n",
    "\n",
    "\n",
    "\n",
    "\n"
   ]
  },
  {
   "cell_type": "code",
   "execution_count": null,
   "metadata": {
    "collapsed": true
   },
   "outputs": [],
   "source": []
  }
 ],
 "metadata": {
  "anaconda-cloud": {},
  "kernelspec": {
   "display_name": "Python [Root]",
   "language": "python",
   "name": "Python [Root]"
  },
  "language_info": {
   "codemirror_mode": {
    "name": "ipython",
    "version": 3
   },
   "file_extension": ".py",
   "mimetype": "text/x-python",
   "name": "python",
   "nbconvert_exporter": "python",
   "pygments_lexer": "ipython3",
   "version": "3.5.2"
  }
 },
 "nbformat": 4,
 "nbformat_minor": 0
}
